{
 "cells": [
  {
   "cell_type": "code",
   "execution_count": 1,
   "id": "fb0e795e",
   "metadata": {},
   "outputs": [
    {
     "name": "stdout",
     "output_type": "stream",
     "text": [
      "1 lines\n"
     ]
    }
   ],
   "source": [
    "import utils\n",
    "\n",
    "data = utils.get_aoc_input(2021, 6).splitlines()\n",
    "print(len(data), \"lines\")\n"
   ]
  },
  {
   "cell_type": "markdown",
   "id": "8180bf4c",
   "metadata": {},
   "source": [
    "# Lanternfish Population Simulation\n",
    "Two approaches: Naive (list-based) and Efficient (counter-based)"
   ]
  },
  {
   "cell_type": "code",
   "execution_count": 2,
   "id": "159f1bc8",
   "metadata": {},
   "outputs": [],
   "source": [
    "def simulate_naive(initial_fish, days):\n",
    "    \"\"\"\n",
    "    Naive approach: Track each fish individually\n",
    "    Good for small simulations, slow for large ones\n",
    "    \"\"\"\n",
    "    fish = initial_fish.copy()\n",
    "    \n",
    "    for day in range(days):\n",
    "        new_fish = []\n",
    "        for i in range(len(fish)):\n",
    "            if fish[i] == 0:\n",
    "                fish[i] = 6\n",
    "                new_fish.append(8)\n",
    "            else:\n",
    "                fish[i] -= 1\n",
    "        fish.extend(new_fish)\n",
    "    \n",
    "    return len(fish)"
   ]
  },
  {
   "cell_type": "code",
   "execution_count": 3,
   "id": "815e112a",
   "metadata": {},
   "outputs": [],
   "source": [
    "def simulate_efficient(initial_fish, days):\n",
    "    \"\"\"\n",
    "    Efficient approach: Count fish by timer value\n",
    "    Works great even for hundreds of days!\n",
    "    \"\"\"\n",
    "    # Count how many fish have each timer value (0-8)\n",
    "    fish_counts = [0] * 9\n",
    "    for timer in initial_fish:\n",
    "        fish_counts[timer] += 1\n",
    "    \n",
    "    # Simulate each day\n",
    "    for day in range(days):\n",
    "        # Fish at timer 0 will reproduce\n",
    "        spawning = fish_counts[0]\n",
    "        \n",
    "        # Shift all timers down by 1\n",
    "        for i in range(8):\n",
    "            fish_counts[i] = fish_counts[i + 1]\n",
    "        \n",
    "        # Reset spawning fish to timer 6\n",
    "        fish_counts[6] += spawning\n",
    "        \n",
    "        # Add new fish at timer 8\n",
    "        fish_counts[8] = spawning\n",
    "    \n",
    "    return sum(fish_counts)"
   ]
  },
  {
   "cell_type": "code",
   "execution_count": 4,
   "id": "cc809193",
   "metadata": {},
   "outputs": [],
   "source": [
    "def simulate_with_visualization(initial_fish, days, show_first=20):\n",
    "    \"\"\"\n",
    "    Shows the simulation step-by-step (for small examples)\n",
    "    \"\"\"\n",
    "    fish = initial_fish.copy()\n",
    "    print(f\"Initial state: {','.join(map(str, fish))}\")\n",
    "    \n",
    "    for day in range(1, days + 1):\n",
    "        new_fish = []\n",
    "        for i in range(len(fish)):\n",
    "            if fish[i] == 0:\n",
    "                fish[i] = 6\n",
    "                new_fish.append(8)\n",
    "            else:\n",
    "                fish[i] -= 1\n",
    "        fish.extend(new_fish)\n",
    "        \n",
    "        if day <= show_first:\n",
    "            print(f\"After {day:2} day{'s' if day > 1 else ' '}: {','.join(map(str, fish))}\")\n",
    "    \n",
    "    return len(fish)"
   ]
  },
  {
   "cell_type": "code",
   "execution_count": 6,
   "id": "68c2035a",
   "metadata": {},
   "outputs": [
    {
     "name": "stdout",
     "output_type": "stream",
     "text": [
      "============================================================\n",
      "VISUALIZATION (first 18 days)\n",
      "============================================================\n",
      "Initial state: 3,4,3,1,2\n",
      "After  1 day : 2,3,2,0,1\n",
      "After  2 days: 1,2,1,6,0,8\n",
      "After  3 days: 0,1,0,5,6,7,8\n",
      "After  4 days: 6,0,6,4,5,6,7,8,8\n",
      "After  5 days: 5,6,5,3,4,5,6,7,7,8\n",
      "After  6 days: 4,5,4,2,3,4,5,6,6,7\n",
      "After  7 days: 3,4,3,1,2,3,4,5,5,6\n",
      "After  8 days: 2,3,2,0,1,2,3,4,4,5\n",
      "After  9 days: 1,2,1,6,0,1,2,3,3,4,8\n",
      "After 10 days: 0,1,0,5,6,0,1,2,2,3,7,8\n",
      "After 11 days: 6,0,6,4,5,6,0,1,1,2,6,7,8,8,8\n",
      "After 12 days: 5,6,5,3,4,5,6,0,0,1,5,6,7,7,7,8,8\n",
      "After 13 days: 4,5,4,2,3,4,5,6,6,0,4,5,6,6,6,7,7,8,8\n",
      "After 14 days: 3,4,3,1,2,3,4,5,5,6,3,4,5,5,5,6,6,7,7,8\n",
      "After 15 days: 2,3,2,0,1,2,3,4,4,5,2,3,4,4,4,5,5,6,6,7\n",
      "After 16 days: 1,2,1,6,0,1,2,3,3,4,1,2,3,3,3,4,4,5,5,6,8\n",
      "After 17 days: 0,1,0,5,6,0,1,2,2,3,0,1,2,2,2,3,3,4,4,5,7,8\n",
      "After 18 days: 6,0,6,4,5,6,0,1,1,2,6,0,1,1,1,2,2,3,3,4,6,7,8,8,8,8\n",
      "\n",
      "Total fish after 18 days: 26\n",
      "\n",
      "============================================================\n",
      "PERFORMANCE COMPARISON\n",
      "============================================================\n",
      "After 18 days: 26 fish\n",
      "After 80 days: 5934 fish\n",
      "After 256 days: 26984457539 fish\n",
      "\n",
      "🚀 After 1000 days: 379,589,061,144,698,259,131,825,683,795,505,058,481 fish\n",
      "\n",
      "============================================================\n",
      "TIP: Use simulate_naive() for days < 100\n",
      "     Use simulate_efficient() for any number of days\n",
      "============================================================\n"
     ]
    }
   ],
   "source": [
    "# Example usage\n",
    "# Test data from the problem\n",
    "test_fish = [3, 4, 3, 1, 2]\n",
    "\n",
    "print(\"=\"*60)\n",
    "print(\"VISUALIZATION (first 18 days)\")\n",
    "print(\"=\"*60)\n",
    "count = simulate_with_visualization(test_fish, 18)\n",
    "print(f\"\\nTotal fish after 18 days: {count}\\n\")\n",
    "\n",
    "print(\"=\"*60)\n",
    "print(\"PERFORMANCE COMPARISON\")\n",
    "print(\"=\"*60)\n",
    "\n",
    "# Test both methods\n",
    "print(f\"After 18 days: {simulate_naive(test_fish, 18)} fish\")\n",
    "print(f\"After 80 days: {simulate_efficient(test_fish, 80)} fish\")\n",
    "print(f\"After 256 days: {simulate_efficient(test_fish, 256)} fish\")\n",
    "\n",
    "# For really large simulations, only efficient method works\n",
    "print(f\"\\n🚀 After 1000 days: {simulate_efficient(test_fish, 1000):,} fish\")\n",
    "\n",
    "print(\"\\n\" + \"=\"*60)\n",
    "print(\"TIP: Use simulate_naive() for days < 100\")\n",
    "print(\"     Use simulate_efficient() for any number of days\")\n",
    "print(\"=\"*60)\n"
   ]
  },
  {
   "cell_type": "code",
   "execution_count": 8,
   "id": "8fc665ce",
   "metadata": {},
   "outputs": [
    {
     "name": "stdout",
     "output_type": "stream",
     "text": [
      "After 80 days: 365862 fish\n",
      "After 256 days: 1653250886439 fish\n"
     ]
    }
   ],
   "source": [
    "# Part 1, final run with actual input\n",
    "real_fish = list(map(int, data[0].split(',')))\n",
    "print(f\"After 80 days: {simulate_efficient(real_fish, 80)} fish\")\n",
    "# Part 2, final run with actual input\n",
    "print(f\"After 256 days: {simulate_efficient(real_fish, 256)} fish\")\n"
   ]
  }
 ],
 "metadata": {
  "kernelspec": {
   "display_name": "Python 3 (ipykernel)",
   "language": "python",
   "name": "python3"
  },
  "language_info": {
   "codemirror_mode": {
    "name": "ipython",
    "version": 3
   },
   "file_extension": ".py",
   "mimetype": "text/x-python",
   "name": "python",
   "nbconvert_exporter": "python",
   "pygments_lexer": "ipython3",
   "version": "3.12.0"
  }
 },
 "nbformat": 4,
 "nbformat_minor": 5
}
