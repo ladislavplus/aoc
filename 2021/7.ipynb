{
 "cells": [
  {
   "cell_type": "code",
   "execution_count": 1,
   "id": "6cff4424",
   "metadata": {},
   "outputs": [
    {
     "name": "stdout",
     "output_type": "stream",
     "text": [
      "1 lines\n"
     ]
    }
   ],
   "source": [
    "import utils\n",
    "\n",
    "data = utils.get_aoc_input(2021, 7).splitlines()\n",
    "print(len(data), \"lines\")\n"
   ]
  },
  {
   "cell_type": "code",
   "execution_count": null,
   "id": "8671db73",
   "metadata": {},
   "outputs": [
    {
     "name": "stdout",
     "output_type": "stream",
     "text": [
      "329 340052\n",
      "466 92948968\n"
     ]
    }
   ],
   "source": [
    "# This uses brute force: O(n × range)\n",
    "# Tests every position: slow but guaranteed to find the optimal solution\n",
    "# Part 1\n",
    "crabs = list(map(int, data[0].split(',')))\n",
    "min_pos = min(crabs)\n",
    "max_pos = max(crabs)\n",
    "best_cost = float('inf')\n",
    "best_pos = None\n",
    "for pos in range(min_pos, max_pos + 1):\n",
    "    cost = sum(abs(c - pos) for c in crabs)\n",
    "    if cost < best_cost:\n",
    "        best_cost = cost\n",
    "        best_pos = pos\n",
    "print(best_pos, best_cost)\n",
    "# Part 2\n",
    "def fuel_cost(distance):\n",
    "    return distance * (distance + 1) // 2\n",
    "best_cost = float('inf')\n",
    "best_pos = None\n",
    "for pos in range(min_pos, max_pos + 1):\n",
    "    cost = sum(fuel_cost(abs(c - pos)) for c in crabs)\n",
    "    if cost < best_cost:\n",
    "        best_cost = cost\n",
    "        best_pos = pos\n",
    "print(best_pos, best_cost)\n"
   ]
  },
  {
   "cell_type": "code",
   "execution_count": null,
   "id": "f62c8523",
   "metadata": {},
   "outputs": [],
   "source": [
    "# Median-based solution for Part 1\n",
    "# O(n log n) due to sorting, O(n) space\n",
    "def calculate_fuel_cost(positions, target):\n",
    "    \"\"\"Calculate total fuel to move all crabs to target position\"\"\"\n",
    "    return sum(abs(pos - target) for pos in positions)\n",
    "\n",
    "def median_solution(positions):\n",
    "    \"\"\"\n",
    "    Use median - the mathematically optimal solution!\n",
    "    Time: O(n log n), Space: O(n)\n",
    "    \n",
    "    Why median? The median minimizes sum of absolute deviations.\n",
    "    This is a proven mathematical property.\n",
    "    \"\"\"\n",
    "    sorted_pos = sorted(positions)\n",
    "    n = len(sorted_pos)\n",
    "    \n",
    "    # For odd length, median is middle element\n",
    "    # For even length, any position between two middle elements works\n",
    "    median = sorted_pos[n // 2]\n",
    "    \n",
    "    cost = calculate_fuel_cost(positions, median)\n",
    "    return median, cost"
   ]
  },
  {
   "cell_type": "code",
   "execution_count": 5,
   "id": "80b07ff7",
   "metadata": {},
   "outputs": [
    {
     "name": "stdout",
     "output_type": "stream",
     "text": [
      "329 340052\n"
     ]
    }
   ],
   "source": [
    "positions = list(map(int, data[0].split(',')))\n",
    "median, cost = median_solution(positions)\n",
    "print(median, cost)\n"
   ]
  },
  {
   "cell_type": "code",
   "execution_count": 6,
   "id": "53bff09a",
   "metadata": {},
   "outputs": [
    {
     "name": "stdout",
     "output_type": "stream",
     "text": [
      "466 92948968\n"
     ]
    }
   ],
   "source": [
    "# Part 2 - Efficient solution using mean approximation\n",
    "def mean_solution(positions):\n",
    "    n = len(positions)\n",
    "    mean = sum(positions) // n  # Integer division\n",
    "    # Check both floor and ceil of the mean to find the optimal\n",
    "    candidates = [mean, mean + 1] # mean - 1 is not needed due to integer division\n",
    "    best_cost = float('inf')\n",
    "    best_pos = None\n",
    "    for candidate in candidates:\n",
    "        cost = sum(fuel_cost(abs(pos - candidate)) for pos in positions)\n",
    "        if cost < best_cost:\n",
    "            best_cost = cost\n",
    "            best_pos = candidate\n",
    "    return best_pos, best_cost \n",
    "\n",
    "best_pos, best_cost = mean_solution(positions)\n",
    "print(best_pos, best_cost)\n",
    "\n",
    "    "
   ]
  }
 ],
 "metadata": {
  "kernelspec": {
   "display_name": "Python 3 (ipykernel)",
   "language": "python",
   "name": "python3"
  },
  "language_info": {
   "codemirror_mode": {
    "name": "ipython",
    "version": 3
   },
   "file_extension": ".py",
   "mimetype": "text/x-python",
   "name": "python",
   "nbconvert_exporter": "python",
   "pygments_lexer": "ipython3",
   "version": "3.12.0"
  }
 },
 "nbformat": 4,
 "nbformat_minor": 5
}
