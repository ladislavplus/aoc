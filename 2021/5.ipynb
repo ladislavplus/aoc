{
 "cells": [
  {
   "cell_type": "code",
   "execution_count": 1,
   "id": "1a5cfd84",
   "metadata": {},
   "outputs": [
    {
     "name": "stdout",
     "output_type": "stream",
     "text": [
      "500 lines\n"
     ]
    }
   ],
   "source": [
    "import utils\n",
    "\n",
    "data = utils.get_aoc_input(2021, 5).splitlines()\n",
    "print(len(data), \"lines\")\n"
   ]
  },
  {
   "cell_type": "code",
   "execution_count": 2,
   "id": "43509477",
   "metadata": {},
   "outputs": [
    {
     "name": "stdout",
     "output_type": "stream",
     "text": [
      "5576\n"
     ]
    }
   ],
   "source": [
    "# PART 1\n",
    "# only horizontal and vertical lines\n",
    "def parse_line(line):\n",
    "    start, end = line.split(\" -> \")\n",
    "    x1, y1 = map(int, start.split(\",\"))\n",
    "    x2, y2 = map(int, end.split(\",\"))\n",
    "    return x1, y1, x2, y2\n",
    "\n",
    "def get_points(x1, y1, x2, y2):\n",
    "    points = []\n",
    "    if x1 == x2:  # vertical line\n",
    "        step = 1 if y2 > y1 else -1\n",
    "        for y in range(y1, y2 + step, step):\n",
    "            points.append((x1, y))\n",
    "    elif y1 == y2:  # horizontal line\n",
    "        step = 1 if x2 > x1 else -1\n",
    "        for x in range(x1, x2 + step, step):\n",
    "            points.append((x, y1))\n",
    "    return points\n",
    "\n",
    "point_counts = {}\n",
    "for line in data:\n",
    "    x1, y1, x2, y2 = parse_line(line)\n",
    "    if x1 == x2 or y1 == y2:  # only horizontal or vertical lines\n",
    "        points = get_points(x1, y1, x2, y2)\n",
    "        for point in points:\n",
    "            if point not in point_counts:\n",
    "                point_counts[point] = 0\n",
    "            point_counts[point] += 1\n",
    "\n",
    "print(sum(1 for count in point_counts.values() if count > 1))\n"
   ]
  },
  {
   "cell_type": "code",
   "execution_count": 3,
   "id": "88511639",
   "metadata": {},
   "outputs": [
    {
     "name": "stdout",
     "output_type": "stream",
     "text": [
      "18144\n"
     ]
    }
   ],
   "source": [
    "# PART 2\n",
    "# include diagonal lines\n",
    "def get_points_including_diagonal(x1, y1, x2, y2):\n",
    "    points = []\n",
    "    if x1 == x2:  # vertical line\n",
    "        step = 1 if y2 > y1 else -1\n",
    "        for y in range(y1, y2 + step, step):\n",
    "            points.append((x1, y))\n",
    "    elif y1 == y2:  # horizontal line\n",
    "        step = 1 if x2 > x1 else -1\n",
    "        for x in range(x1, x2 + step, step):\n",
    "            points.append((x, y1))\n",
    "    else:  # diagonal line at 45 degrees\n",
    "        x_step = 1 if x2 > x1 else -1\n",
    "        y_step = 1 if y2 > y1 else -1\n",
    "        length = abs(x2 - x1)\n",
    "        for i in range(length + 1):\n",
    "            points.append((x1 + i * x_step, y1 + i * y_step))\n",
    "    return points\n",
    "\n",
    "point_counts = {}\n",
    "for line in data:\n",
    "    x1, y1, x2, y2 = parse_line(line)\n",
    "    points = get_points_including_diagonal(x1, y1, x2, y2)\n",
    "    for point in points:\n",
    "        if point not in point_counts:\n",
    "            point_counts[point] = 0\n",
    "        point_counts[point] += 1\n",
    "\n",
    "print(sum(1 for count in point_counts.values() if count > 1))"
   ]
  }
 ],
 "metadata": {
  "kernelspec": {
   "display_name": "Python 3 (ipykernel)",
   "language": "python",
   "name": "python3"
  },
  "language_info": {
   "codemirror_mode": {
    "name": "ipython",
    "version": 3
   },
   "file_extension": ".py",
   "mimetype": "text/x-python",
   "name": "python",
   "nbconvert_exporter": "python",
   "pygments_lexer": "ipython3",
   "version": "3.12.0"
  }
 },
 "nbformat": 4,
 "nbformat_minor": 5
}
