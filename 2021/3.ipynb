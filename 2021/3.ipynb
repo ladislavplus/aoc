{
 "cells": [
  {
   "cell_type": "code",
   "execution_count": 2,
   "id": "7cf292e0",
   "metadata": {},
   "outputs": [
    {
     "name": "stdout",
     "output_type": "stream",
     "text": [
      "1000 lines\n"
     ]
    }
   ],
   "source": [
    "import utils\n",
    "\n",
    "data = utils.get_aoc_input(2021, 3).splitlines()\n",
    "print(len(data), \"lines\")\n"
   ]
  },
  {
   "cell_type": "code",
   "execution_count": 3,
   "id": "1c4e960e",
   "metadata": {},
   "outputs": [
    {
     "name": "stdout",
     "output_type": "stream",
     "text": [
      "[38, -4, 2, 8, 12, 56, 34, 18, 16, 28, -20, 42]\n",
      "3148794\n"
     ]
    }
   ],
   "source": [
    "# go through all bits, count 1s and 0s\n",
    "counts = [0] * len(data[0])\n",
    "for line in data:\n",
    "    for i, c in enumerate(line):\n",
    "        if c == '1':\n",
    "            counts[i] += 1\n",
    "        else:\n",
    "            counts[i] -= 1\n",
    "print(counts)\n",
    "gamma = ''.join('1' if c > 0 else '0' for c in counts)\n",
    "epsilon = ''.join('1' if c < 0 else '0' for c in counts)\n",
    "print(int(gamma, 2) * int(epsilon, 2))\n"
   ]
  },
  {
   "cell_type": "code",
   "execution_count": 5,
   "id": "a6fd2b4f",
   "metadata": {},
   "outputs": [
    {
     "name": "stdout",
     "output_type": "stream",
     "text": [
      "2795310\n"
     ]
    }
   ],
   "source": [
    "# part 2\n",
    "def filter_data(data, prefer_most_common):\n",
    "    for i in range(len(data[0])):\n",
    "        count = 0\n",
    "        for line in data:\n",
    "            if line[i] == '1':\n",
    "                count += 1\n",
    "            else:\n",
    "                count -= 1\n",
    "        if prefer_most_common:\n",
    "            desired_bit = '1' if count >= 0 else '0'\n",
    "        else:\n",
    "            desired_bit = '0' if count >= 0 else '1'\n",
    "        data = [line for line in data if line[i] == desired_bit]\n",
    "        if len(data) == 1:\n",
    "            break\n",
    "    return data[0]\n",
    "\n",
    "oxygen = filter_data(data, True)\n",
    "co2 = filter_data(data, False)\n",
    "print(int(oxygen, 2) * int(co2, 2))"
   ]
  }
 ],
 "metadata": {
  "kernelspec": {
   "display_name": "Python 3 (ipykernel)",
   "language": "python",
   "name": "python3"
  },
  "language_info": {
   "codemirror_mode": {
    "name": "ipython",
    "version": 3
   },
   "file_extension": ".py",
   "mimetype": "text/x-python",
   "name": "python",
   "nbconvert_exporter": "python",
   "pygments_lexer": "ipython3",
   "version": "3.12.0"
  }
 },
 "nbformat": 4,
 "nbformat_minor": 5
}
