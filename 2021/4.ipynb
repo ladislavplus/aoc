{
 "cells": [
  {
   "cell_type": "code",
   "execution_count": 1,
   "id": "f87b647f",
   "metadata": {},
   "outputs": [
    {
     "name": "stdout",
     "output_type": "stream",
     "text": [
      "601 lines\n"
     ]
    }
   ],
   "source": [
    "import utils\n",
    "\n",
    "data = utils.get_aoc_input(2021, 4).splitlines()\n",
    "print(len(data), \"lines\")\n"
   ]
  },
  {
   "cell_type": "code",
   "execution_count": 2,
   "id": "b55619d7",
   "metadata": {},
   "outputs": [
    {
     "name": "stdout",
     "output_type": "stream",
     "text": [
      "[15, 62, 2, 39, 49, 25, 65, 28, 84, 59, 75, 24, 20, 76, 60, 55, 17, 7, 93, 69, 32, 23, 44, 81, 8, 67, 41, 56, 43, 89, 95, 97, 61, 77, 64, 37, 29, 10, 79, 26, 51, 48, 5, 86, 71, 58, 78, 90, 57, 82, 45, 70, 11, 14, 13, 50, 68, 94, 99, 22, 47, 12, 1, 74, 18, 46, 4, 6, 88, 54, 83, 96, 63, 66, 35, 27, 36, 72, 42, 98, 0, 52, 40, 91, 33, 21, 34, 85, 3, 38, 31, 92, 9, 87, 19, 73, 30, 16, 53, 80]\n"
     ]
    }
   ],
   "source": [
    "# read numbers\n",
    "numbers = [int(x) for x in data[0].split(\",\")]\n",
    "print(numbers)"
   ]
  },
  {
   "cell_type": "code",
   "execution_count": 3,
   "id": "5e2c8a0f",
   "metadata": {},
   "outputs": [
    {
     "name": "stdout",
     "output_type": "stream",
     "text": [
      "100 boards\n",
      "[[92, 3, 88, 13, 50], [90, 70, 24, 28, 52], [15, 98, 10, 26, 5], [84, 34, 37, 73, 87], [25, 36, 74, 33, 63]]\n"
     ]
    }
   ],
   "source": [
    "# read boards\n",
    "boards = []\n",
    "board = []\n",
    "for line in data[2:]:\n",
    "    if line == \"\":\n",
    "        boards.append(board)\n",
    "        board = []\n",
    "    else:\n",
    "        board.append([int(x) for x in line.split()])\n",
    "boards.append(board)\n",
    "print(len(boards), \"boards\")\n",
    "print(boards[0])"
   ]
  },
  {
   "cell_type": "code",
   "execution_count": 4,
   "id": "48d8e073",
   "metadata": {},
   "outputs": [
    {
     "name": "stdout",
     "output_type": "stream",
     "text": [
      "BINGO! 41\n",
      "SCORE: 35711\n"
     ]
    }
   ],
   "source": [
    "# --- Part One ---\n",
    "def mark_board(board, number):\n",
    "    for i in range(5):\n",
    "        for j in range(5):\n",
    "            if board[i][j] == number:\n",
    "                board[i][j] = -1\n",
    "                return True\n",
    "    return False    \n",
    "\n",
    "def check_board(board):\n",
    "    for i in range(5):\n",
    "        if all(x == -1 for x in board[i]):\n",
    "            return True\n",
    "        if all(board[j][i] == -1 for j in range(5)):\n",
    "            return True\n",
    "    return False\n",
    "\n",
    "for number in numbers:\n",
    "    for board in boards:\n",
    "        if mark_board(board, number):\n",
    "            if check_board(board):\n",
    "                print(\"BINGO!\", number)\n",
    "                score = sum(x for row in board for x in row if x != -1)\n",
    "                print(\"SCORE:\", score * number)\n",
    "                break\n",
    "    else:\n",
    "        continue\n",
    "    break"
   ]
  },
  {
   "cell_type": "code",
   "execution_count": null,
   "id": "abd4913d",
   "metadata": {},
   "outputs": [
    {
     "name": "stdout",
     "output_type": "stream",
     "text": [
      "LAST BINGO! 21\n",
      "SCORE: 5586\n"
     ]
    }
   ],
   "source": [
    "# --- Part Two ---\n",
    "boards = []\n",
    "board = []\n",
    "for line in data[2:]:\n",
    "    if line == \"\":\n",
    "        boards.append(board)\n",
    "        board = []\n",
    "    else:\n",
    "        board.append([int(x) for x in line.split()])\n",
    "boards.append(board)\n",
    "\n",
    "for number in numbers:\n",
    "    to_remove = []\n",
    "    for bi, board in enumerate(boards):\n",
    "        if mark_board(board, number):\n",
    "            if check_board(board):\n",
    "                if len(boards) == 1:\n",
    "                    print(\"LAST BINGO!\", number)\n",
    "                    score = sum(x for row in board for x in row if x != -1)\n",
    "                    print(\"SCORE:\", score * number)\n",
    "                    break\n",
    "                to_remove.append(bi)\n",
    "    else: # no break happened above\n",
    "        for bi in reversed(to_remove):\n",
    "            boards.pop(bi) # remove winning boards from the list from the end to prevent index shifts\n",
    "        continue\n",
    "    break"
   ]
  },
  {
   "cell_type": "markdown",
   "id": "8ad5aa6e",
   "metadata": {},
   "source": [
    "# Remarks\n",
    "## going through each x in each row of the board\n",
    "> score = sum(x for row in board for x in row if x != -1)\n",
    "\n",
    "## for : ... else:\n",
    "- if the loop completes normally (without break) do the else:\n",
    "\n",
    "for num in numbers:\n",
    "    if num == target:\n",
    "        print(f\"Found {target}!\")\n",
    "        break\n",
    "else:\n",
    "    print(f\"{target} not found in the list.\")\n",
    "\n",
    "\n"
   ]
  }
 ],
 "metadata": {
  "kernelspec": {
   "display_name": "Python 3 (ipykernel)",
   "language": "python",
   "name": "python3"
  },
  "language_info": {
   "codemirror_mode": {
    "name": "ipython",
    "version": 3
   },
   "file_extension": ".py",
   "mimetype": "text/x-python",
   "name": "python",
   "nbconvert_exporter": "python",
   "pygments_lexer": "ipython3",
   "version": "3.12.0"
  }
 },
 "nbformat": 4,
 "nbformat_minor": 5
}
