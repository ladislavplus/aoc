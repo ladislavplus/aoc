{
 "cells": [
  {
   "cell_type": "code",
   "execution_count": 1,
   "id": "cc48136d",
   "metadata": {},
   "outputs": [
    {
     "name": "stdout",
     "output_type": "stream",
     "text": [
      "1000 lines\n"
     ]
    }
   ],
   "source": [
    "import utils\n",
    "\n",
    "data = utils.get_aoc_input(2021, 2).splitlines()\n",
    "print(len(data), \"lines\")\n"
   ]
  },
  {
   "cell_type": "code",
   "execution_count": null,
   "id": "1b98da57",
   "metadata": {},
   "outputs": [
    {
     "name": "stdout",
     "output_type": "stream",
     "text": [
      "Part 1: 1499229\n"
     ]
    }
   ],
   "source": [
    "# go through data and split each line into command and value\n",
    "fwd = 0\n",
    "down = 0\n",
    "for line in data:\n",
    "    command, value = line.split()\n",
    "    if command == \"forward\": \n",
    "        fwd += int(value)\n",
    "    elif command == \"down\":\n",
    "        down += int(value)\n",
    "    elif command == \"up\":\n",
    "        down -= int(value)\n",
    "    \n",
    "print(\"Part 1:\", fwd * down)"
   ]
  },
  {
   "cell_type": "code",
   "execution_count": 4,
   "id": "1be821f1",
   "metadata": {},
   "outputs": [
    {
     "name": "stdout",
     "output_type": "stream",
     "text": [
      "Part 2: 1340836560\n"
     ]
    }
   ],
   "source": [
    "fwd = 0\n",
    "aim = 0\n",
    "depth = 0\n",
    "for line in data:\n",
    "    command, value = line.split()\n",
    "    if command == \"forward\": \n",
    "        fwd += int(value)\n",
    "        depth += aim * int(value)\n",
    "    elif command == \"down\":\n",
    "        aim += int(value)\n",
    "    elif command == \"up\":\n",
    "        aim -= int(value)\n",
    "    \n",
    "print(\"Part 2:\", fwd * depth)"
   ]
  }
 ],
 "metadata": {
  "kernelspec": {
   "display_name": "Python 3 (ipykernel)",
   "language": "python",
   "name": "python3"
  },
  "language_info": {
   "codemirror_mode": {
    "name": "ipython",
    "version": 3
   },
   "file_extension": ".py",
   "mimetype": "text/x-python",
   "name": "python",
   "nbconvert_exporter": "python",
   "pygments_lexer": "ipython3",
   "version": "3.12.0"
  }
 },
 "nbformat": 4,
 "nbformat_minor": 5
}
